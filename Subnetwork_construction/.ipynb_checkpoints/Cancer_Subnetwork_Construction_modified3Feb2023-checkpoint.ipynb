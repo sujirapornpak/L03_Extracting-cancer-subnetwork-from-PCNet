{
 "cells": [
  {
   "cell_type": "markdown",
   "metadata": {},
   "source": [
    "# Constructing a Cancer-Specific Network by Extraction from the PCNet\n",
    "\n",
    "__Introduction:__  \n",
    "\n",
    "In this notebook, methods for extracting a cancer subnetwork from [__PCNet__](http://www.ndexbio.org/#/network/f93f402c-86d4-11e7-a10d-0ac135e8bacf) [1] is derived from the original Jupyter notebook used in [__cancer subnetwork construction__](https://github.com/idekerlab/pyNBS/blob/master/Supplementary_Notebooks/Cancer%20Subnetwork%20Construction.ipynb), a pre-processing step of propagating network used for the [__pyNBS algorithm__](https://github.com/idekerlab/pyNBS) [2].  \n",
    "\n",
    "__The following is a list of the four cancer-related gene sets used to filter PCNet (~ a baseline cancer gene set):__  \n",
    "\n",
    "|File Name|Cancer Gene Set Description|Citation|\n",
    "|:---|:---|:---|\n",
    "|hallmarks.txt|Genes from hallmark cancer pathways|Hanahan D and Weinberg RA (2011) Hallmarks of Cancer: The Next Generation. Cell. 144(5), 646-674.|\n",
    "|vogelstein.txt|List of tumor suppressor and oncogenes from Vogelstein et al.|Vogelstein B, et al. (2013) Cancer genome landscapes. Science. 339(6127), 1546-1558.|\n",
    "|sanger_CL_genes.txt|Recurrently mutated cancer genes discovered from cancer cell lines (Sanger UK)|Iorio F, et al. (2016) A Landscape of Pharmacogenomic Interactions in Cancer. Cell. 166(3), 740-754.|\n",
    "|cgc.txt|Genes from the Cancer Gene Census (COSMIC v81)|Forbes SA, et al. (2017) COSMIC: somatic cancer genetics at high-resolution. Nucleic Acids Res. 45(D1), D777-D783.|\n",
    "\n",
    "\n",
    "- [1] Huang, J.K., et al., Systematic evaluation of molecular networks for discovery of disease genes. Cell systems, 2018. 6(4): p. 484-495. e5.\n",
    "- [2] Huang, J.K., et al., pyNBS: a Python implementation for network-based stratification of tumor mutations. Bioinformatics, 2018. 34(16): p. 2859-2861."
   ]
  },
  {
   "cell_type": "markdown",
   "metadata": {},
   "source": [
    "## Requirement: _Python 2.7 conda environment_\n",
    "\n",
    "- $ conda create -n (your_env_name) python=2.7\n",
    "\n",
    "- $ conda activate (your_env_name)\n",
    "\n",
    "- $ conda install ipykernel\n",
    "\n",
    "- $ conda install -c anaconda jupyter\n",
    "\n",
    "- $ conda install -c conda-forge pandas=0.19.2\n",
    "\n",
    "- $ conda install -c anaconda networkx=2.2"
   ]
  },
  {
   "cell_type": "markdown",
   "metadata": {},
   "source": [
    "## STEP 1: Get cancer gene list"
   ]
  },
  {
   "cell_type": "code",
   "execution_count": 1,
   "metadata": {},
   "outputs": [],
   "source": [
    "import pandas as pd\n",
    "import networkx as nx\n",
    "\n",
    "# Import pyNBS modules\n",
    "from pyNBS import gene_conversion_tools as gct #<---- will be used when export network\n",
    "from pyNBS import data_import_tools as dit #<---- will be used when loading network"
   ]
  },
  {
   "cell_type": "code",
   "execution_count": 2,
   "metadata": {},
   "outputs": [
    {
     "data": {
      "text/html": [
       "<div>\n",
       "<table border=\"1\" class=\"dataframe\">\n",
       "  <thead>\n",
       "    <tr style=\"text-align: right;\">\n",
       "      <th></th>\n",
       "      <th>HallmarkCan_1711</th>\n",
       "      <th>Vogelstein_138</th>\n",
       "      <th>Sanger_2369</th>\n",
       "      <th>COSMIC_595</th>\n",
       "    </tr>\n",
       "  </thead>\n",
       "  <tbody>\n",
       "    <tr>\n",
       "      <th>0</th>\n",
       "      <td>A2M</td>\n",
       "      <td>ABL1</td>\n",
       "      <td>ABCB1</td>\n",
       "      <td>ABI1</td>\n",
       "    </tr>\n",
       "    <tr>\n",
       "      <th>1</th>\n",
       "      <td>ABCB1</td>\n",
       "      <td>ACVR1B</td>\n",
       "      <td>ABL2</td>\n",
       "      <td>ABL1</td>\n",
       "    </tr>\n",
       "    <tr>\n",
       "      <th>2</th>\n",
       "      <td>ABCB11</td>\n",
       "      <td>AKT1</td>\n",
       "      <td>ACACA</td>\n",
       "      <td>ABL2</td>\n",
       "    </tr>\n",
       "  </tbody>\n",
       "</table>\n",
       "</div>"
      ],
      "text/plain": [
       "  HallmarkCan_1711 Vogelstein_138 Sanger_2369 COSMIC_595\n",
       "0              A2M           ABL1       ABCB1       ABI1\n",
       "1            ABCB1         ACVR1B        ABL2       ABL1\n",
       "2           ABCB11           AKT1       ACACA       ABL2"
      ]
     },
     "execution_count": 2,
     "metadata": {},
     "output_type": "execute_result"
    }
   ],
   "source": [
    "# Open table of cancer genes derived from four sources \n",
    "cancer_table = pd.read_csv(\"SuppTable2_GeneList_CancerSubnetwork_2322_4sources.tsv\",sep='\\t',header=0)\n",
    "\n",
    "# Open table of cancer genes of interest\n",
    "LUAD_table = pd.read_csv(\"LUAD_47drivers.tsv\",sep='\\t',header=0)\n",
    "\n",
    "cancer_table.head(3)"
   ]
  },
  {
   "cell_type": "code",
   "execution_count": 3,
   "metadata": {
    "tags": []
   },
   "outputs": [
    {
     "name": "stdout",
     "output_type": "stream",
     "text": [
      "(1711, 138, 2369, 595, 47)\n"
     ]
    }
   ],
   "source": [
    "# Get list of cancer genes of interest\n",
    "Hallmark_genes = list(cancer_table['HallmarkCan_1711'].dropna())\n",
    "Volgel_genes = list(cancer_table['Vogelstein_138'].dropna())\n",
    "Sanger_genes = list(cancer_table['Sanger_2369'].dropna())\n",
    "Cosmic_genes = list(cancer_table['COSMIC_595'].dropna())\n",
    "interest_genes = list(LUAD_table['LUAD_47'].dropna())\n",
    "\n",
    "# Check the number of genes\n",
    "print(len(Hallmark_genes), \n",
    "len(Volgel_genes), \n",
    "len(Sanger_genes), \n",
    "len(Cosmic_genes),\n",
    "len(interest_genes)) "
   ]
  },
  {
   "cell_type": "code",
   "execution_count": 4,
   "metadata": {},
   "outputs": [
    {
     "name": "stdout",
     "output_type": "stream",
     "text": [
      "('Number of all Cancer Genes:', 2322)\n",
      "('Number of all Cancer Genes plus LUAD drivers:', 2331)\n",
      "('Number of genes increased :', 9)\n"
     ]
    }
   ],
   "source": [
    "#### Combine all cancer gene lists together\n",
    "\n",
    "cancer_genes_ori = list(set(Hallmark_genes+Volgel_genes+Sanger_genes+Cosmic_genes))\n",
    "cancer_genes_interest = list(set(Hallmark_genes+Volgel_genes+Sanger_genes+Cosmic_genes+interest_genes))\n",
    "\n",
    "print(\"Number of all Cancer Genes:\", len(cancer_genes_ori)) # 2322 genes\n",
    "print(\"Number of all Cancer Genes plus LUAD drivers:\", len(cancer_genes_interest))  # 2331 genes \n",
    "print(\"Number of genes increased :\", len(cancer_genes_interest)- len(cancer_genes_ori)) # 9 genes"
   ]
  },
  {
   "cell_type": "code",
   "execution_count": null,
   "metadata": {},
   "outputs": [],
   "source": []
  },
  {
   "cell_type": "markdown",
   "metadata": {},
   "source": [
    "## STEP 2: Extract subnetwork form PCNet using cancer gene list"
   ]
  },
  {
   "cell_type": "markdown",
   "metadata": {},
   "source": [
    "### STEP 2.1: Load PCNet from a network file ```'~/PCNet.txt'```"
   ]
  },
  {
   "cell_type": "code",
   "execution_count": 5,
   "metadata": {},
   "outputs": [
    {
     "data": {
      "text/plain": [
       "19781"
      ]
     },
     "execution_count": 5,
     "metadata": {},
     "output_type": "execute_result"
    }
   ],
   "source": [
    "# Load PCNet \n",
    "PCnetwork_file = 'PCNet.txt'\n",
    "PCnetwork = nx.read_edgelist(PCnetwork_file, delimiter='\\t', data=True)\n",
    "\n",
    "# PCnet\n",
    "PCnodes = PCnetwork.nodes \n",
    "len(PCnodes) # = 19781"
   ]
  },
  {
   "cell_type": "code",
   "execution_count": null,
   "metadata": {},
   "outputs": [],
   "source": []
  },
  {
   "cell_type": "markdown",
   "metadata": {},
   "source": [
    "### STEP 2.2: Pre-check to make sure whether your genes of interest are avilable in PCNet"
   ]
  },
  {
   "cell_type": "code",
   "execution_count": 6,
   "metadata": {},
   "outputs": [
    {
     "name": "stdout",
     "output_type": "stream",
     "text": [
      "[]\n"
     ]
    }
   ],
   "source": [
    "genecheck1 = []\n",
    "for i in list(range(len(interest_genes))): # len(interest_genes) = # 47 genes \n",
    "    if interest_genes[i] not in PCnodes: # len(PCnodes) # = 19781\n",
    "        genecheck1.append(interest_genes[i])\n",
    "print genecheck1  # = 0, meaning that all 47 genes exist in PCNet nodes"
   ]
  },
  {
   "cell_type": "code",
   "execution_count": 7,
   "metadata": {},
   "outputs": [
    {
     "data": {
      "text/plain": [
       "True"
      ]
     },
     "execution_count": 7,
     "metadata": {},
     "output_type": "execute_result"
    }
   ],
   "source": [
    "# alternatively, manually checking\n",
    "'ADGRL2' in PCnodes #True"
   ]
  },
  {
   "cell_type": "markdown",
   "metadata": {},
   "source": [
    "### STEP 2.3: Filter PCNet to only contain genes from the combined cancer gene list and the edges between those genes\n"
   ]
  },
  {
   "cell_type": "code",
   "execution_count": 8,
   "metadata": {},
   "outputs": [
    {
     "name": "stdout",
     "output_type": "stream",
     "text": [
      "('Number of connected genes in Cancer Subnetwork:', 2304)\n",
      "('Number of interactions in Cancer Subnetwork:', 204826)\n"
     ]
    }
   ],
   "source": [
    "# Filter PCNet using .subgraph()\n",
    "\n",
    "cancer_subnetwork1 = PCnetwork.subgraph(cancer_genes_interest) # cancer_genes_interest = 2331\n",
    "gene_degree1 = pd.Series(cancer_subnetwork1.degree(), name='degree')\n",
    "\n",
    "print (\"Number of connected genes in Cancer Subnetwork:\", len(cancer_subnetwork1.nodes())-len(gene_degree1[gene_degree1==0]))\n",
    "print (\"Number of interactions in Cancer Subnetwork:\", len(cancer_subnetwork1.edges()))\n",
    "\n",
    "#****---------Note: Genes with no edges had not been removed in this step.---------*****"
   ]
  },
  {
   "cell_type": "code",
   "execution_count": null,
   "metadata": {},
   "outputs": [],
   "source": []
  },
  {
   "cell_type": "markdown",
   "metadata": {},
   "source": [
    "## STEP 3: Export subnetwork to file"
   ]
  },
  {
   "cell_type": "code",
   "execution_count": 9,
   "metadata": {},
   "outputs": [
    {
     "name": "stdout",
     "output_type": "stream",
     "text": [
      "Edge list saved: 1.07 seconds\n"
     ]
    }
   ],
   "source": [
    "## Write output cancer subnetwork generated from cancer_genes_af that include 47 driver genes\n",
    "# Write the filtered cancer subnetwork to file\n",
    "# Note: Genes with no edges connecting them to any other gene will be removed during this step\n",
    "\n",
    "gct.write_edgelist(cancer_subnetwork1.edges(),\n",
    "                   './Output_subnetwork/CancerSubnetwork1_plusInterestLUAD47.txt', binary=True)"
   ]
  },
  {
   "cell_type": "code",
   "execution_count": null,
   "metadata": {
    "collapsed": true,
    "jupyter": {
     "outputs_hidden": true
    }
   },
   "outputs": [],
   "source": []
  },
  {
   "cell_type": "markdown",
   "metadata": {},
   "source": [
    "## STEP 4: Try to load newly created cancer subnetwork"
   ]
  },
  {
   "cell_type": "markdown",
   "metadata": {},
   "source": [
    "### STEP 4.1: Load subnetwork created in the previous section"
   ]
  },
  {
   "cell_type": "code",
   "execution_count": 12,
   "metadata": {},
   "outputs": [
    {
     "name": "stdout",
     "output_type": "stream",
     "text": [
      "Network File Loaded: ./Output_subnetwork/CancerSubnetwork1_plusInterestLUAD47.txt\n",
      "('Number of connected genes in Cancer Subnetwork:', 2297)\n",
      "('Number of interactions in Cancer Subnetwork:', 204826)\n",
      "('Number of nodes removed due to no interactions (edges) :', 7)\n"
     ]
    }
   ],
   "source": [
    "network_filepath1 = './Output_subnetwork/CancerSubnetwork1_plusInterestLUAD47.txt'\n",
    "network1 = dit.load_network_file(network_filepath1)\n",
    "\n",
    "network1_nodes = network1.nodes()\n",
    "network1_edges = network1.edges()\n",
    "\n",
    "print (\"Number of connected genes in Cancer Subnetwork:\", len(network1_nodes))\n",
    "print (\"Number of interactions in Cancer Subnetwork:\", len(network1_edges))\n",
    "print (\"Number of nodes removed due to no interactions (edges) :\", len(cancer_subnetwork1.nodes())-len(network1_nodes))"
   ]
  },
  {
   "cell_type": "markdown",
   "metadata": {},
   "source": [
    "### STEP 4.2: Check to make sure if your genes of interest are avilable in extracted subnetwork"
   ]
  },
  {
   "cell_type": "code",
   "execution_count": 13,
   "metadata": {},
   "outputs": [
    {
     "name": "stdout",
     "output_type": "stream",
     "text": [
      "[]\n"
     ]
    }
   ],
   "source": [
    "genecheck2 = []\n",
    "for i in list(range(len(interest_genes))): # len(interest_genes) = # 47 genes \n",
    "    if interest_genes[i] not in network1_nodes: # len(network1_nodes) # = 2297\n",
    "        genecheck2.append(interest_genes[i])\n",
    "print genecheck2  "
   ]
  },
  {
   "cell_type": "code",
   "execution_count": null,
   "metadata": {},
   "outputs": [],
   "source": []
  }
 ],
 "metadata": {
  "kernelspec": {
   "display_name": "Python 2",
   "language": "python",
   "name": "python2"
  },
  "language_info": {
   "codemirror_mode": {
    "name": "ipython",
    "version": 2
   },
   "file_extension": ".py",
   "mimetype": "text/x-python",
   "name": "python",
   "nbconvert_exporter": "python",
   "pygments_lexer": "ipython2",
   "version": "2.7.15"
  }
 },
 "nbformat": 4,
 "nbformat_minor": 4
}
